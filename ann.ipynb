{
  "nbformat": 4,
  "nbformat_minor": 0,
  "metadata": {
    "colab": {
      "provenance": [],
      "include_colab_link": true
    },
    "kernelspec": {
      "name": "python3",
      "display_name": "Python 3"
    }
  },
  "cells": [
    {
      "cell_type": "markdown",
      "metadata": {
        "id": "view-in-github",
        "colab_type": "text"
      },
      "source": [
        "<a href=\"https://colab.research.google.com/github/Josue-PonceCaro/DeepLearning-Self-Driving-Car/blob/main/ann.ipynb\" target=\"_parent\"><img src=\"https://colab.research.google.com/assets/colab-badge.svg\" alt=\"Open In Colab\"/></a>"
      ]
    },
    {
      "cell_type": "markdown",
      "metadata": {
        "id": "qA--9cAW2UyP"
      },
      "source": [
        "# Redes Neuronales Artificales\n"
      ]
    },
    {
      "cell_type": "markdown",
      "metadata": {
        "id": "9BeMXDOJ2ZJe"
      },
      "source": [
        "### Instalar Theano\n",
        "pip install --upgrade --no-deps git+git://github.com/Theano/Theano.git\n",
        "\n",
        "### Instalar Tensorflow y Keras\n",
        "conda install -c conda-forge keras"
      ]
    },
    {
      "cell_type": "markdown",
      "metadata": {
        "id": "lxUxkKp23ELX"
      },
      "source": [
        "## Parte 1 - Pre procesado de datos"
      ]
    },
    {
      "cell_type": "markdown",
      "metadata": {
        "id": "xtYdPVXz2j92"
      },
      "source": [
        "### Cómo importar las librerías\n"
      ]
    },
    {
      "cell_type": "code",
      "metadata": {
        "id": "iMqBjL4U2Yhk"
      },
      "source": [
        "import numpy as np\n",
        "import matplotlib.pyplot as plt\n",
        "import pandas as pd\n",
        "import pickle"
      ],
      "execution_count": 86,
      "outputs": []
    },
    {
      "cell_type": "markdown",
      "source": [
        "Cargar Modelo"
      ],
      "metadata": {
        "id": "QwA_jiFtPWXI"
      }
    },
    {
      "cell_type": "code",
      "source": [
        "with open('./forecasting/Model_hour_T_Est1 - LoteC5', 'rb') as file:\n",
        "    model = pickle.load(file)"
      ],
      "metadata": {
        "id": "8ohFsN2_PVkw"
      },
      "execution_count": 87,
      "outputs": []
    },
    {
      "cell_type": "markdown",
      "metadata": {
        "id": "fyQNJ1Fe2sLx"
      },
      "source": [
        "\n",
        "### Importar el data set\n"
      ]
    },
    {
      "cell_type": "markdown",
      "source": [
        "Install library"
      ],
      "metadata": {
        "id": "0Px5xDgobUBk"
      }
    },
    {
      "cell_type": "code",
      "source": [
        "!pip install requests"
      ],
      "metadata": {
        "colab": {
          "base_uri": "https://localhost:8080/"
        },
        "id": "0grJbDtVbZyj",
        "outputId": "1b35c6c1-2024-41fd-f049-d6e89f6655bd"
      },
      "execution_count": 5,
      "outputs": [
        {
          "output_type": "stream",
          "name": "stdout",
          "text": [
            "Requirement already satisfied: requests in /usr/local/lib/python3.10/dist-packages (2.31.0)\n",
            "Requirement already satisfied: charset-normalizer<4,>=2 in /usr/local/lib/python3.10/dist-packages (from requests) (3.3.2)\n",
            "Requirement already satisfied: idna<4,>=2.5 in /usr/local/lib/python3.10/dist-packages (from requests) (3.6)\n",
            "Requirement already satisfied: urllib3<3,>=1.21.1 in /usr/local/lib/python3.10/dist-packages (from requests) (2.0.7)\n",
            "Requirement already satisfied: certifi>=2017.4.17 in /usr/local/lib/python3.10/dist-packages (from requests) (2024.2.2)\n"
          ]
        }
      ]
    },
    {
      "cell_type": "markdown",
      "source": [
        "Import library"
      ],
      "metadata": {
        "id": "T8wNxu3_cGbt"
      }
    },
    {
      "cell_type": "code",
      "source": [
        "import json"
      ],
      "metadata": {
        "id": "YdkVVwjacCRZ"
      },
      "execution_count": 11,
      "outputs": []
    },
    {
      "cell_type": "code",
      "source": [
        "with open('./forecasting/hourlyDatos.json') as archivo:\n",
        "  datos = json.load(archivo)\n",
        "\n"
      ],
      "metadata": {
        "id": "lAQR6HEKZ3SM"
      },
      "execution_count": 88,
      "outputs": []
    },
    {
      "cell_type": "markdown",
      "source": [
        "Generar el df"
      ],
      "metadata": {
        "id": "huzAIkx_hA9N"
      }
    },
    {
      "cell_type": "code",
      "source": [
        "df = pd.DataFrame(datos['data'])\n"
      ],
      "metadata": {
        "id": "uXKbsDaZcos_"
      },
      "execution_count": 89,
      "outputs": []
    },
    {
      "cell_type": "code",
      "source": [
        "df.index = pd.to_datetime(df['fecha_hora'], format=\"%Y-%m-%d %H:%M:%S\")"
      ],
      "metadata": {
        "id": "-pSak4UdzjLn"
      },
      "execution_count": 90,
      "outputs": []
    },
    {
      "cell_type": "markdown",
      "source": [
        "Define dataset"
      ],
      "metadata": {
        "id": "b8Kw8Cmki2_O"
      }
    },
    {
      "cell_type": "code",
      "source": [
        "df = df[['temperatura_exterior','temperatura_alta','temperatura_baja','humedad_externa_porcentaje','punto_rocio','presion_atmosferica']]\n",
        "\n",
        "print(df)"
      ],
      "metadata": {
        "colab": {
          "base_uri": "https://localhost:8080/"
        },
        "id": "_c3sOJvni54l",
        "outputId": "896a5f56-2744-4d16-9c7c-f2f02f547689"
      },
      "execution_count": 91,
      "outputs": [
        {
          "output_type": "stream",
          "name": "stdout",
          "text": [
            "                     temperatura_exterior  temperatura_alta  temperatura_baja  \\\n",
            "fecha_hora                                                                      \n",
            "2024-04-13 00:00:00             22.972222         23.055556         22.833333   \n",
            "2024-04-13 01:00:00             22.763889         22.888889         22.444444   \n",
            "2024-04-13 02:00:00             22.125000         22.444444         21.777778   \n",
            "2024-04-13 03:00:00             21.583333         21.833333         21.444444   \n",
            "2024-04-13 04:00:00             21.555556         21.666667         21.500000   \n",
            "2024-04-13 05:00:00             21.583333         21.722222         21.333333   \n",
            "2024-04-13 06:00:00             21.236111         21.444444         21.166667   \n",
            "2024-04-13 07:00:00             22.527778         23.611111         21.444444   \n",
            "2024-04-13 08:00:00             24.750000         25.666667         23.611111   \n",
            "2024-04-13 09:00:00             26.138889         26.888889         25.666667   \n",
            "2024-04-13 10:00:00             27.902778         28.833333         26.888889   \n",
            "2024-04-13 11:00:00             29.625000         30.222222         28.833333   \n",
            "2024-04-13 12:00:00             30.805556         31.222222         30.166667   \n",
            "2024-04-13 13:00:00             31.458333         31.944444         30.944444   \n",
            "2024-04-13 14:00:00             31.750000         32.055556         31.500000   \n",
            "2024-04-13 15:00:00             31.222222         31.833333         30.444444   \n",
            "2024-04-13 16:00:00             29.819444         30.444444         29.277778   \n",
            "2024-04-13 17:00:00             28.430556         29.277778         27.833333   \n",
            "2024-04-13 18:00:00             27.041667         27.833333         26.555556   \n",
            "2024-04-13 19:00:00             26.305556         26.555556         26.055556   \n",
            "2024-04-13 20:00:00             25.666667         26.111111         25.388889   \n",
            "2024-04-13 21:00:00             25.166667         25.444444         25.000000   \n",
            "2024-04-13 22:00:00             24.763889         25.000000         24.500000   \n",
            "2024-04-13 23:00:00             24.277778         24.555556         23.944444   \n",
            "2024-04-14 00:00:00             23.444444         23.944444         23.055556   \n",
            "2024-04-14 01:00:00             22.930556         23.055556         22.888889   \n",
            "2024-04-14 02:00:00             22.444444         22.888889         21.722222   \n",
            "2024-04-14 03:00:00             21.583333         21.722222         21.444444   \n",
            "2024-04-14 04:00:00             21.263889         21.555556         21.000000   \n",
            "2024-04-14 05:00:00             20.944444         21.000000         20.888889   \n",
            "2024-04-14 06:00:00             21.194444         21.666667         20.944444   \n",
            "2024-04-14 07:00:00             22.500000         23.333333         21.666667   \n",
            "2024-04-14 08:00:00             24.125000         25.000000         23.333333   \n",
            "2024-04-14 09:00:00             26.208333         27.166667         25.000000   \n",
            "2024-04-14 10:00:00             28.125000         29.166667         27.166667   \n",
            "2024-04-14 11:00:00             29.875000         30.444444         29.111111   \n",
            "2024-04-14 12:00:00             31.513889         32.444444         30.333333   \n",
            "2024-04-14 13:00:00             32.305556         33.055556         31.722222   \n",
            "2024-04-14 14:00:00             32.555556         33.222222         31.611111   \n",
            "2024-04-14 15:00:00             30.694444         31.888889         29.444444   \n",
            "2024-04-14 16:00:00             28.583333         29.444444         27.777778   \n",
            "2024-04-14 17:00:00             26.972222         27.777778         26.444444   \n",
            "2024-04-14 18:00:00             25.916667         26.555556         25.277778   \n",
            "2024-04-14 19:00:00             25.041667         25.333333         24.833333   \n",
            "2024-04-14 20:00:00             24.555556         24.833333         24.333333   \n",
            "2024-04-14 21:00:00             24.388889         24.388889         24.333333   \n",
            "\n",
            "                     humedad_externa_porcentaje  punto_rocio  \\\n",
            "fecha_hora                                                     \n",
            "2024-04-13 00:00:00                       81.25    19.508072   \n",
            "2024-04-13 01:00:00                       83.00    19.651572   \n",
            "2024-04-13 02:00:00                       86.00    19.578600   \n",
            "2024-04-13 03:00:00                       88.25    19.427622   \n",
            "2024-04-13 04:00:00                       88.00    19.427622   \n",
            "2024-04-13 05:00:00                       88.00    19.407689   \n",
            "2024-04-13 06:00:00                       88.00    18.916167   \n",
            "2024-04-13 07:00:00                       81.25    19.034039   \n",
            "2024-04-13 08:00:00                       74.50    19.613987   \n",
            "2024-04-13 09:00:00                       72.25    20.452508   \n",
            "2024-04-13 10:00:00                       67.00    20.931206   \n",
            "2024-04-13 11:00:00                       60.75    21.112089   \n",
            "2024-04-13 12:00:00                       58.50    21.476067   \n",
            "2024-04-13 13:00:00                       58.00    22.027050   \n",
            "2024-04-13 14:00:00                       57.50    22.207750   \n",
            "2024-04-13 15:00:00                       58.50    21.897211   \n",
            "2024-04-13 16:00:00                       60.25    20.969428   \n",
            "2024-04-13 17:00:00                       62.50    20.507744   \n",
            "2024-04-13 18:00:00                       66.25    19.977628   \n",
            "2024-04-13 19:00:00                       67.50    19.713333   \n",
            "2024-04-13 20:00:00                       70.00    19.730689   \n",
            "2024-04-13 21:00:00                       71.75    19.599117   \n",
            "2024-04-13 22:00:00                       73.75    19.661250   \n",
            "2024-04-13 23:00:00                       76.75    19.776014   \n",
            "2024-04-14 00:00:00                       79.75    19.645772   \n",
            "2024-04-14 01:00:00                       81.00    19.453944   \n",
            "2024-04-14 02:00:00                       83.50    19.306322   \n",
            "2024-04-14 03:00:00                       86.00    19.058211   \n",
            "2024-04-14 04:00:00                       86.75    18.806939   \n",
            "2024-04-14 05:00:00                       87.75    18.752328   \n",
            "2024-04-14 06:00:00                       87.25    18.935417   \n",
            "2024-04-14 07:00:00                       82.00    19.237422   \n",
            "2024-04-14 08:00:00                       76.50    19.591806   \n",
            "2024-04-14 09:00:00                       70.75    20.248983   \n",
            "2024-04-14 10:00:00                       65.50    20.717578   \n",
            "2024-04-14 11:00:00                       61.25    21.343252   \n",
            "2024-04-14 12:00:00                       55.50    21.276042   \n",
            "2024-04-14 13:00:00                       53.50    21.527811   \n",
            "2024-04-14 14:00:00                       53.00    21.530270   \n",
            "2024-04-14 15:00:00                       56.50    20.852083   \n",
            "2024-04-14 16:00:00                       61.50    20.297972   \n",
            "2024-04-14 17:00:00                       66.75    20.164289   \n",
            "2024-04-14 18:00:00                       70.50    20.025828   \n",
            "2024-04-14 19:00:00                       72.75    19.714686   \n",
            "2024-04-14 20:00:00                       74.25    19.559622   \n",
            "2024-04-14 21:00:00                       75.00    19.668791   \n",
            "\n",
            "                     presion_atmosferica  \n",
            "fecha_hora                                \n",
            "2024-04-13 00:00:00            759.12980  \n",
            "2024-04-13 01:00:00            758.67260  \n",
            "2024-04-13 02:00:00            758.15190  \n",
            "2024-04-13 03:00:00            757.92330  \n",
            "2024-04-13 04:00:00            757.54865  \n",
            "2024-04-13 05:00:00            757.95505  \n",
            "2024-04-13 06:00:00            758.53925  \n",
            "2024-04-13 07:00:00            759.12980  \n",
            "2024-04-13 08:00:00            759.50445  \n",
            "2024-04-13 09:00:00            759.70130  \n",
            "2024-04-13 10:00:00            759.32030  \n",
            "2024-04-13 11:00:00            758.88215  \n",
            "2024-04-13 12:00:00            758.37415  \n",
            "2024-04-13 13:00:00            757.72645  \n",
            "2024-04-13 14:00:00            756.97715  \n",
            "2024-04-13 15:00:00            756.43740  \n",
            "2024-04-13 16:00:00            756.58980  \n",
            "2024-04-13 17:00:00            757.14860  \n",
            "2024-04-13 18:00:00            757.73915  \n",
            "2024-04-13 19:00:00            758.12015  \n",
            "2024-04-13 20:00:00            758.45035  \n",
            "2024-04-13 21:00:00            758.78690  \n",
            "2024-04-13 22:00:00            759.10440  \n",
            "2024-04-13 23:00:00            758.99645  \n",
            "2024-04-14 00:00:00            758.83770  \n",
            "2024-04-14 01:00:00            758.28525  \n",
            "2024-04-14 02:00:00            757.87885  \n",
            "2024-04-14 03:00:00            757.66295  \n",
            "2024-04-14 04:00:00            757.48515  \n",
            "2024-04-14 05:00:00            757.58675  \n",
            "2024-04-14 06:00:00            757.93600  \n",
            "2024-04-14 07:00:00            758.32335  \n",
            "2024-04-14 08:00:00            758.92025  \n",
            "2024-04-14 09:00:00            759.02185  \n",
            "2024-04-14 10:00:00            758.72340  \n",
            "2024-04-14 11:00:00            758.18365  \n",
            "2024-04-14 12:00:00            757.51690  \n",
            "2024-04-14 13:00:00            756.68505  \n",
            "2024-04-14 14:00:00            756.11355  \n",
            "2024-04-14 15:00:00            755.82780  \n",
            "2024-04-14 16:00:00            755.94845  \n",
            "2024-04-14 17:00:00            756.38025  \n",
            "2024-04-14 18:00:00            757.05970  \n",
            "2024-04-14 19:00:00            757.80900  \n",
            "2024-04-14 20:00:00            758.21540  \n",
            "2024-04-14 21:00:00            758.41860  \n"
          ]
        }
      ]
    },
    {
      "cell_type": "code",
      "source": [
        "#df = df.dropna() # SE VA REMOVER LAS FILAS CON NAN ???"
      ],
      "metadata": {
        "id": "jaiWhlgfjsSG"
      },
      "execution_count": null,
      "outputs": []
    },
    {
      "cell_type": "markdown",
      "source": [
        "Definir df final"
      ],
      "metadata": {
        "id": "J9P6nN-ZkShW"
      }
    },
    {
      "cell_type": "code",
      "source": [
        "xdata = df.values[-24:,:]\n",
        "xdata = np.expand_dims(xdata, axis=0)\n",
        "print(xdata.shape)"
      ],
      "metadata": {
        "colab": {
          "base_uri": "https://localhost:8080/"
        },
        "id": "Ry7vVFoykVU3",
        "outputId": "e7f5e19f-5fa0-4a3f-d64c-8c492b220e69"
      },
      "execution_count": 95,
      "outputs": [
        {
          "output_type": "stream",
          "name": "stdout",
          "text": [
            "(1, 24, 6)\n"
          ]
        }
      ]
    },
    {
      "cell_type": "markdown",
      "source": [
        "Split squence"
      ],
      "metadata": {
        "id": "SxZ_EPEWlBPZ"
      }
    },
    {
      "cell_type": "markdown",
      "source": [
        "Run model"
      ],
      "metadata": {
        "id": "cyR6BUHmlgj2"
      }
    },
    {
      "cell_type": "code",
      "source": [
        "yhat = model.predict(xdata)\n",
        "yhat[0][0]\n",
        "print(yhat[0][0])"
      ],
      "metadata": {
        "colab": {
          "base_uri": "https://localhost:8080/"
        },
        "id": "CGt_UFu1lh8F",
        "outputId": "80f8d7f7-edde-483d-c9e5-6cf71d58d8b3"
      },
      "execution_count": 100,
      "outputs": [
        {
          "output_type": "stream",
          "name": "stdout",
          "text": [
            "1/1 [==============================] - 0s 42ms/step\n",
            "[[[ 21.214273  22.628883  21.769665  68.75486   19.977423 757.43823 ]\n",
            "  [ 21.866785  22.85339   22.204235  67.959076  20.12751  756.3477  ]\n",
            "  [ 21.842052  22.92741   22.258314  67.819565  20.119308 756.10315 ]\n",
            "  [ 21.851946  22.922447  22.25914   67.81441   20.11786  756.11475 ]\n",
            "  [ 21.851833  22.923706  22.259542  67.81231   20.118502 756.1129  ]\n",
            "  [ 21.851841  22.923668  22.259588  67.812195  20.118397 756.1127  ]]]\n"
          ]
        }
      ]
    },
    {
      "cell_type": "code",
      "source": [
        "dff = df.DataFrame(yhat)\n",
        "print(dff)"
      ],
      "metadata": {
        "colab": {
          "base_uri": "https://localhost:8080/",
          "height": 275
        },
        "id": "g7Bw-otp2mHi",
        "outputId": "6442edc7-bc22-454c-d727-96a026ee0be9"
      },
      "execution_count": 105,
      "outputs": [
        {
          "output_type": "error",
          "ename": "AttributeError",
          "evalue": "'DataFrame' object has no attribute 'DataFrame'",
          "traceback": [
            "\u001b[0;31m---------------------------------------------------------------------------\u001b[0m",
            "\u001b[0;31mAttributeError\u001b[0m                            Traceback (most recent call last)",
            "\u001b[0;32m<ipython-input-105-46cab2d67f80>\u001b[0m in \u001b[0;36m<cell line: 1>\u001b[0;34m()\u001b[0m\n\u001b[0;32m----> 1\u001b[0;31m \u001b[0mdff\u001b[0m \u001b[0;34m=\u001b[0m \u001b[0mdf\u001b[0m\u001b[0;34m.\u001b[0m\u001b[0mDataFrame\u001b[0m\u001b[0;34m(\u001b[0m\u001b[0myhat\u001b[0m\u001b[0;34m)\u001b[0m\u001b[0;34m\u001b[0m\u001b[0;34m\u001b[0m\u001b[0m\n\u001b[0m\u001b[1;32m      2\u001b[0m \u001b[0mprint\u001b[0m\u001b[0;34m(\u001b[0m\u001b[0mdff\u001b[0m\u001b[0;34m)\u001b[0m\u001b[0;34m\u001b[0m\u001b[0;34m\u001b[0m\u001b[0m\n",
            "\u001b[0;32m/usr/local/lib/python3.10/dist-packages/pandas/core/generic.py\u001b[0m in \u001b[0;36m__getattr__\u001b[0;34m(self, name)\u001b[0m\n\u001b[1;32m   5987\u001b[0m         ):\n\u001b[1;32m   5988\u001b[0m             \u001b[0;32mreturn\u001b[0m \u001b[0mself\u001b[0m\u001b[0;34m[\u001b[0m\u001b[0mname\u001b[0m\u001b[0;34m]\u001b[0m\u001b[0;34m\u001b[0m\u001b[0;34m\u001b[0m\u001b[0m\n\u001b[0;32m-> 5989\u001b[0;31m         \u001b[0;32mreturn\u001b[0m \u001b[0mobject\u001b[0m\u001b[0;34m.\u001b[0m\u001b[0m__getattribute__\u001b[0m\u001b[0;34m(\u001b[0m\u001b[0mself\u001b[0m\u001b[0;34m,\u001b[0m \u001b[0mname\u001b[0m\u001b[0;34m)\u001b[0m\u001b[0;34m\u001b[0m\u001b[0;34m\u001b[0m\u001b[0m\n\u001b[0m\u001b[1;32m   5990\u001b[0m \u001b[0;34m\u001b[0m\u001b[0m\n\u001b[1;32m   5991\u001b[0m     \u001b[0;32mdef\u001b[0m \u001b[0m__setattr__\u001b[0m\u001b[0;34m(\u001b[0m\u001b[0mself\u001b[0m\u001b[0;34m,\u001b[0m \u001b[0mname\u001b[0m\u001b[0;34m:\u001b[0m \u001b[0mstr\u001b[0m\u001b[0;34m,\u001b[0m \u001b[0mvalue\u001b[0m\u001b[0;34m)\u001b[0m \u001b[0;34m->\u001b[0m \u001b[0;32mNone\u001b[0m\u001b[0;34m:\u001b[0m\u001b[0;34m\u001b[0m\u001b[0;34m\u001b[0m\u001b[0m\n",
            "\u001b[0;31mAttributeError\u001b[0m: 'DataFrame' object has no attribute 'DataFrame'"
          ]
        }
      ]
    },
    {
      "cell_type": "markdown",
      "source": [
        "Comparing data"
      ],
      "metadata": {
        "id": "7Ud6IcewnFZ5"
      }
    },
    {
      "cell_type": "code",
      "source": [
        "forecast_result = pd.DataFrame(data={\"Train Predictions\":yhat.flatten()})"
      ],
      "metadata": {
        "id": "2iei9wWam8Kf"
      },
      "execution_count": 97,
      "outputs": []
    },
    {
      "cell_type": "code",
      "source": [
        "print(forecast_result)"
      ],
      "metadata": {
        "colab": {
          "base_uri": "https://localhost:8080/"
        },
        "id": "Oz3wfphOnpUD",
        "outputId": "69d17311-5a96-4093-9e14-6f5a2b3f6b16"
      },
      "execution_count": 98,
      "outputs": [
        {
          "output_type": "stream",
          "name": "stdout",
          "text": [
            "    Train Predictions\n",
            "0           21.214273\n",
            "1           22.628883\n",
            "2           21.769665\n",
            "3           68.754860\n",
            "4           19.977423\n",
            "5          757.438232\n",
            "6           21.866785\n",
            "7           22.853390\n",
            "8           22.204235\n",
            "9           67.959076\n",
            "10          20.127510\n",
            "11         756.347717\n",
            "12          21.842052\n",
            "13          22.927410\n",
            "14          22.258314\n",
            "15          67.819565\n",
            "16          20.119308\n",
            "17         756.103149\n",
            "18          21.851946\n",
            "19          22.922447\n",
            "20          22.259140\n",
            "21          67.814407\n",
            "22          20.117861\n",
            "23         756.114746\n",
            "24          21.851833\n",
            "25          22.923706\n",
            "26          22.259542\n",
            "27          67.812309\n",
            "28          20.118502\n",
            "29         756.112915\n",
            "30          21.851841\n",
            "31          22.923668\n",
            "32          22.259588\n",
            "33          67.812195\n",
            "34          20.118397\n",
            "35         756.112671\n"
          ]
        }
      ]
    },
    {
      "cell_type": "code",
      "source": [
        "with open('./forecasting/Model_hr_P_Est1 - LoteC5', 'rb') as file:\n",
        "    model2 = pickle.load(file)\n",
        "df2 = pd.DataFrame(datos['data'])\n",
        "\n",
        "df2 = df2[['velocidad_viento','direccion_viento_grados','lluvia','radiacion_solar','evapotranspiracion']]\n",
        "\n",
        "n_steps_in2, n_steps_out2 = 24,6\n",
        "\n",
        "xdata2 = df2.values[-24:,:]\n",
        "xdata2 = np.expand_dims(xdata2, axis=0)\n",
        "yhat2 = model2.predict(xdata2)\n"
      ],
      "metadata": {
        "colab": {
          "base_uri": "https://localhost:8080/"
        },
        "id": "YX_2Ch0t3C86",
        "outputId": "9f48c6b5-8a19-4bde-cbc5-bd9e8bc92c13"
      },
      "execution_count": 107,
      "outputs": [
        {
          "output_type": "stream",
          "name": "stdout",
          "text": [
            "1/1 [==============================] - 0s 489ms/step\n"
          ]
        }
      ]
    },
    {
      "cell_type": "code",
      "source": [
        "print(yhat2)"
      ],
      "metadata": {
        "colab": {
          "base_uri": "https://localhost:8080/"
        },
        "id": "Y4057ZhE4G1L",
        "outputId": "a7efeaae-5315-4d63-e09b-bc105b858864"
      },
      "execution_count": 108,
      "outputs": [
        {
          "output_type": "stream",
          "name": "stdout",
          "text": [
            "[[[ 4.05503988e+00  1.72707123e+02  1.74161792e-01  4.79899883e+00\n",
            "   -1.60681009e-01]\n",
            "  [ 4.99346066e+00  1.74520706e+02  2.55011946e-01  8.37526608e+00\n",
            "   -1.76505923e-01]\n",
            "  [ 4.52228355e+00  1.77634033e+02  2.45003521e-01  9.38040352e+00\n",
            "   -2.27007151e-01]\n",
            "  [ 4.31607342e+00  1.80422516e+02  2.47996300e-01  1.26480865e+01\n",
            "   -2.66362309e-01]\n",
            "  [ 3.75915480e+00  1.79816605e+02  2.42450386e-01  1.56473055e+01\n",
            "   -2.80575395e-01]\n",
            "  [ 3.37979889e+00  1.83319183e+02  2.33342692e-01  1.97220192e+01\n",
            "   -3.28827739e-01]]]\n"
          ]
        }
      ]
    },
    {
      "cell_type": "code",
      "source": [
        "from google.colab import drive\n",
        "drive.mount('/content/drive')"
      ],
      "metadata": {
        "id": "bg7fwVcr5rAS"
      },
      "execution_count": null,
      "outputs": []
    },
    {
      "cell_type": "code",
      "source": [
        "print(yhat2.shape)"
      ],
      "metadata": {
        "colab": {
          "base_uri": "https://localhost:8080/"
        },
        "id": "3fhRY3bR4U22",
        "outputId": "0f6c473b-a587-45da-daee-0f5e706b9542"
      },
      "execution_count": 109,
      "outputs": [
        {
          "output_type": "stream",
          "name": "stdout",
          "text": [
            "(1, 6, 5)\n"
          ]
        }
      ]
    }
  ]
}